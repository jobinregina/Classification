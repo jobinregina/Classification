{
 "cells": [
  {
   "cell_type": "code",
   "execution_count": 1,
   "metadata": {},
   "outputs": [
    {
     "name": "stderr",
     "output_type": "stream",
     "text": [
      "/home/jobin/anaconda2/lib/python2.7/site-packages/h5py/__init__.py:36: FutureWarning: Conversion of the second argument of issubdtype from `float` to `np.floating` is deprecated. In future, it will be treated as `np.float64 == np.dtype(float).type`.\n",
      "  from ._conv import register_converters as _register_converters\n"
     ]
    }
   ],
   "source": [
    "import tensorflow as tf\n",
    "import numpy as np\n",
    "import pandas as pd\n",
    "import matplotlib.pyplot as plt\n",
    "import seaborn as sns\n",
    "import mpl_toolkits\n",
    "import datetime as dt\n",
    "import operator\n",
    "%matplotlib inline"
   ]
  },
  {
   "cell_type": "code",
   "execution_count": 10,
   "metadata": {},
   "outputs": [
    {
     "name": "stdout",
     "output_type": "stream",
     "text": [
      "3.0\n"
     ]
    }
   ],
   "source": [
    "#constants and variable\n",
    "x = tf.constant(-2.0, name=\"x\", dtype=tf.float32)\n",
    "a = tf.constant(5.0, name=\"a\", dtype=tf.float32)\n",
    "b = tf.constant(13.0, name=\"b\", dtype=tf.float32)\n",
    "\n",
    "y = tf.Variable(tf.add(tf.multiply(a, x), b))\n",
    "\n",
    "init = tf.global_variables_initializer()\n",
    "\n",
    "with tf.Session() as session:\n",
    "    session.run(init)\n",
    "    print session.run(y)"
   ]
  },
  {
   "cell_type": "code",
   "execution_count": 11,
   "metadata": {},
   "outputs": [
    {
     "name": "stdout",
     "output_type": "stream",
     "text": [
      "6.2999997\n"
     ]
    }
   ],
   "source": [
    "#placeholder\n",
    "x = tf.placeholder(tf.float32, name=\"x\")\n",
    "y = tf.placeholder(tf.float32, name=\"y\")\n",
    "\n",
    "z = tf.multiply(x, y, name=\"z\")\n",
    "\n",
    "with tf.Session() as session:\n",
    "    print session.run(z, feed_dict={x: 2.1, y: 3.0})"
   ]
  },
  {
   "cell_type": "code",
   "execution_count": 14,
   "metadata": {},
   "outputs": [
    {
     "name": "stdout",
     "output_type": "stream",
     "text": [
      "3.0\n"
     ]
    }
   ],
   "source": [
    "x = tf.constant(-2.0, name=\"x\", dtype=tf.float32)\n",
    "a = tf.constant(5.0, name=\"a\", dtype=tf.float32)\n",
    "b = tf.constant(13.0, name=\"b\", dtype=tf.float32)\n",
    "\n",
    "\n",
    "y = tf.Variable(tf.add(tf.multiply(a, x), b))\n",
    "\n",
    "\n",
    "init = tf.global_variables_initializer()\n",
    "\n",
    "\n",
    "with tf.Session() as session:\n",
    "    merged = tf.summary.merge_all() \n",
    "    writer = tf.summary.FileWriter(\"logs\", session.graph)\n",
    "\n",
    "\n",
    "    session.run(init)\n",
    "    print session.run(y)"
   ]
  },
  {
   "cell_type": "code",
   "execution_count": 22,
   "metadata": {},
   "outputs": [
    {
     "name": "stdout",
     "output_type": "stream",
     "text": [
      "[  1.45  -1.     0.2  102.1 ]\n"
     ]
    }
   ],
   "source": [
    "#1d array\n",
    "tensor_1d = np.array([1.45, -1, 0.2, 102.1])\n",
    "print tensor_1d"
   ]
  },
  {
   "cell_type": "code",
   "execution_count": 21,
   "metadata": {},
   "outputs": [
    {
     "name": "stdout",
     "output_type": "stream",
     "text": [
      "[  1.45  -1.     0.2  102.1 ]\n",
      "1.45\n",
      "-1.0\n"
     ]
    }
   ],
   "source": [
    "#1d array to tensor\n",
    "tensor_1d = np.array([1.45, -1, 0.2, 102.1])\n",
    "tensor = tf.convert_to_tensor(tensor_1d, dtype=tf.float64)\n",
    "with tf.Session() as session:\n",
    "    print session.run(tensor)\n",
    "    print session.run(tensor[0])\n",
    "    print session.run(tensor[1])"
   ]
  },
  {
   "cell_type": "code",
   "execution_count": 24,
   "metadata": {},
   "outputs": [
    {
     "name": "stdout",
     "output_type": "stream",
     "text": [
      "[[1.1556089  0.5242052  1.3517512  0.96458447]\n",
      " [1.4411933  0.48925623 1.4353809  1.184251  ]\n",
      " [1.5245483  0.5869725  1.9662781  1.403646  ]\n",
      " [1.0356354  0.33383352 1.6011732  1.1223309 ]]\n",
      "[[1.7312961  0.4338314  1.2200854  0.68333673]\n",
      " [0.31192312 0.933083   1.0124826  0.65248823]\n",
      " [1.0196934  0.66465926 1.1070616  1.1447706 ]\n",
      " [0.43804836 1.188235   1.8821197  1.780334  ]]\n",
      "-0.27646232\n"
     ]
    }
   ],
   "source": [
    "#2d matrix to tensor\n",
    "tensor_2d = np.array(np.random.rand(4, 4), dtype='float32')\n",
    "tensor_2d_1 = np.array(np.random.rand(4, 4), dtype='float32')\n",
    "tensor_2d_2 = np.array(np.random.rand(4, 4), dtype='float32')\n",
    "\n",
    "m1 = tf.convert_to_tensor(tensor_2d)\n",
    "m2 = tf.convert_to_tensor(tensor_2d_1)\n",
    "m3 = tf.convert_to_tensor(tensor_2d_2)\n",
    "mat_product = tf.matmul(m1, m2)\n",
    "mat_sum = tf.add(m2, m3)\n",
    "mat_det = tf.matrix_determinant(m3)\n",
    "\n",
    "with tf.Session() as session:\n",
    "    print session.run(mat_product)\n",
    "    print session.run(mat_sum)\n",
    "    print session.run(mat_det)"
   ]
  },
  {
   "cell_type": "code",
   "execution_count": 37,
   "metadata": {},
   "outputs": [
    {
     "name": "stdout",
     "output_type": "stream",
     "text": [
      "[ 0.15425145  0.52532199 -0.95241298]\n"
     ]
    }
   ],
   "source": [
    "#tensor operation\n",
    "tensor_1d = np.array([30, 45, 60])\n",
    "tensor = tf.convert_to_tensor(tensor_1d, dtype=tf.float64)\n",
    "with tf.Session() as session:\n",
    "    print session.run(tf.cos(tensor))"
   ]
  },
  {
   "cell_type": "code",
   "execution_count": 41,
   "metadata": {},
   "outputs": [
    {
     "name": "stdout",
     "output_type": "stream",
     "text": [
      "[[0.48436093 0.9834593  0.19419342 0.84315044]\n",
      " [0.05990237 0.9852567  0.5637786  0.7091128 ]\n",
      " [0.07944763 0.35905617 0.3865844  0.75230587]\n",
      " [0.7990572  0.7369079  0.18424805 0.37813088]]\n",
      "[[0.67329884 0.5950659  0.57781434 0.5293169 ]\n",
      " [1.4576776  1.2872739  1.4553479  1.8918629 ]\n",
      " [0.56944215 0.6055926  0.6807114  0.89349097]\n",
      " [1.4324789  0.94283164 1.4826233  1.7713273 ]]\n",
      "[[-0.27772272  2.8185878  -1.2093316  -0.95643055]\n",
      " [ 0.04973055 -0.38225576  1.3576034   0.01611672]\n",
      " [-0.14759703 -0.70805126  0.2589901   1.6895452 ]\n",
      " [ 2.425174   -3.6162348   0.34394744 -0.21964966]]\n",
      "0.048482414\n",
      "[[ 19.709417 ]\n",
      " [-35.97983  ]\n",
      " [  3.9968905]\n",
      " [  3.2959876]]\n"
     ]
    }
   ],
   "source": [
    "#matrix operations\n",
    "def convert(v, t=tf.float32):\n",
    "    return tf.convert_to_tensor(v, dtype=t)\n",
    "\n",
    "m1 = convert(np.array(np.random.rand(4, 4), dtype='float32'))\n",
    "m2 = convert(np.array(np.random.rand(4, 4), dtype='float32'))\n",
    "m3 = convert(np.array(np.random.rand(4, 4), dtype='float32'))\n",
    "m4 = convert(np.array(np.random.rand(4, 4), dtype='float32'))\n",
    "m5 = convert(np.array(np.random.rand(4, 4), dtype='float32'))\n",
    "\n",
    "m_tranpose = tf.transpose(m1)\n",
    "m_mul = tf.matmul(m1, m2)\n",
    "m_det = tf.matrix_determinant(m3)\n",
    "m_inv = tf.matrix_inverse(m4)\n",
    "m_solve = tf.matrix_solve(m5, [[1], [0], [0], [0]])\n",
    "\n",
    "with tf.Session() as session:\n",
    "    print session.run(m_tranpose)\n",
    "    print session.run(m_mul)\n",
    "    print session.run(m_inv)\n",
    "    print session.run(m_det)\n",
    "    print session.run(m_solve)"
   ]
  },
  {
   "cell_type": "code",
   "execution_count": 2,
   "metadata": {},
   "outputs": [
    {
     "name": "stdout",
     "output_type": "stream",
     "text": [
      "Argmin =  [2 3 3 3]\n",
      "Argmax =  [3 2 1 0]\n",
      "Unique_values =  [1. 2. 5. 3. 7.]\n",
      "Unique_idx =  [0 1 2 3 4]\n",
      "Setdiff_values =  [5. 3. 7.]\n",
      "Setdiff_idx =  [2 3 4]\n",
      "[2 3 4]\n"
     ]
    }
   ],
   "source": [
    "#sequence utilities\n",
    "def convert(v, t=tf.float32):\n",
    "    return tf.convert_to_tensor(v, dtype=t)\n",
    "\n",
    "x = convert(np.array([\n",
    "    [2, 2, 1, 3],\n",
    "    [4, 5, 6, -1],\n",
    "    [0, 1, 1, -2],\n",
    "    [6, 2, 3, 0]\n",
    "]))\n",
    "\n",
    "y = convert(np.array([1, 2, 5, 3, 7]))\n",
    "z = convert(np.array([1, 0, 4, 6, 2]))\n",
    "\n",
    "arg_min = tf.argmin(x, 1)\n",
    "arg_max = tf.argmax(x, 1)\n",
    "unique = tf.unique(y)\n",
    "diff = tf.setdiff1d(y, z)\n",
    "\n",
    "with tf.Session() as session:\n",
    "    print \"Argmin = \", session.run(arg_min)\n",
    "    print \"Argmax = \", session.run(arg_max)\n",
    "\n",
    "    print \"Unique_values = \", session.run(unique)[0]\n",
    "    print \"Unique_idx = \", session.run(unique)[1]\n",
    "\n",
    "    print \"Setdiff_values = \", session.run(diff)[0]\n",
    "    print \"Setdiff_idx = \", session.run(diff)[1]\n",
    "\n",
    "    print session.run(diff)[1]"
   ]
  },
  {
   "cell_type": "code",
   "execution_count": 5,
   "metadata": {},
   "outputs": [],
   "source": [
    "data = pd.read_csv(\"../Python/Wavelet_Feature/EEG/Str_NaIn\")\n",
    "tar = np.ones((200,1))\n",
    "tar1 = np.zeros((200,1))\n",
    "target=np.concatenate((tar, tar1), axis=0)\n",
    "\n",
    " #prepare dataset for the machine learning techniques(use feature column headers)\n",
    "from sklearn.model_selection import train_test_split\n",
    "\n",
    "X = np.asarray(data[['0', '1', '2', '3', '4', '5']]) #feature vector column headers(wavelet bands)\n",
    "y = target\n",
    "\n",
    "train_dataset, test_dataset, train_labels, test_labels = train_test_split(X, y, test_size =0.3, random_state=0)\n"
   ]
  },
  {
   "cell_type": "code",
   "execution_count": 9,
   "metadata": {},
   "outputs": [
    {
     "ename": "ValueError",
     "evalue": "Cannot feed value of shape (6,) for Tensor u'Placeholder_7:0', which has shape '(280, 6)'",
     "output_type": "error",
     "traceback": [
      "\u001b[0;31m---------------------------------------------------------------------------\u001b[0m",
      "\u001b[0;31mValueError\u001b[0m                                Traceback (most recent call last)",
      "\u001b[0;32m<ipython-input-9-1c293e9511fd>\u001b[0m in \u001b[0;36m<module>\u001b[0;34m()\u001b[0m\n\u001b[1;32m     11\u001b[0m \u001b[0;34m\u001b[0m\u001b[0m\n\u001b[1;32m     12\u001b[0m     \u001b[0;32mfor\u001b[0m \u001b[0mi\u001b[0m \u001b[0;32min\u001b[0m \u001b[0mxrange\u001b[0m\u001b[0;34m(\u001b[0m\u001b[0mlen\u001b[0m\u001b[0;34m(\u001b[0m\u001b[0mtest_dataset\u001b[0m\u001b[0;34m)\u001b[0m\u001b[0;34m)\u001b[0m\u001b[0;34m:\u001b[0m\u001b[0;34m\u001b[0m\u001b[0m\n\u001b[0;32m---> 13\u001b[0;31m         \u001b[0mknn_index\u001b[0m \u001b[0;34m=\u001b[0m \u001b[0mtf_session\u001b[0m\u001b[0;34m.\u001b[0m\u001b[0mrun\u001b[0m\u001b[0;34m(\u001b[0m\u001b[0mpred\u001b[0m\u001b[0;34m,\u001b[0m \u001b[0mfeed_dict\u001b[0m\u001b[0;34m=\u001b[0m\u001b[0;34m{\u001b[0m\u001b[0mtrain_pl\u001b[0m\u001b[0;34m:\u001b[0m \u001b[0mtrain_dataset\u001b[0m\u001b[0;34m,\u001b[0m \u001b[0mtest_pl\u001b[0m\u001b[0;34m:\u001b[0m \u001b[0mtest_dataset\u001b[0m\u001b[0;34m[\u001b[0m\u001b[0mi\u001b[0m\u001b[0;34m]\u001b[0m\u001b[0;34m}\u001b[0m\u001b[0;34m)\u001b[0m\u001b[0;34m\u001b[0m\u001b[0m\n\u001b[0m\u001b[1;32m     14\u001b[0m \u001b[0;34m\u001b[0m\u001b[0m\n\u001b[1;32m     15\u001b[0m         \u001b[0;32mprint\u001b[0m \u001b[0;34m\"Predicted class {} -- True class {}\"\u001b[0m\u001b[0;34m.\u001b[0m\u001b[0mformat\u001b[0m\u001b[0;34m(\u001b[0m\u001b[0mtrain_labels\u001b[0m\u001b[0;34m[\u001b[0m\u001b[0mknn_index\u001b[0m\u001b[0;34m]\u001b[0m\u001b[0;34m,\u001b[0m \u001b[0mtest_labels\u001b[0m\u001b[0;34m[\u001b[0m\u001b[0mi\u001b[0m\u001b[0;34m]\u001b[0m\u001b[0;34m)\u001b[0m\u001b[0;34m\u001b[0m\u001b[0m\n",
      "\u001b[0;32m/home/jobin/anaconda2/lib/python2.7/site-packages/tensorflow/python/client/session.pyc\u001b[0m in \u001b[0;36mrun\u001b[0;34m(self, fetches, feed_dict, options, run_metadata)\u001b[0m\n\u001b[1;32m    903\u001b[0m     \u001b[0;32mtry\u001b[0m\u001b[0;34m:\u001b[0m\u001b[0;34m\u001b[0m\u001b[0m\n\u001b[1;32m    904\u001b[0m       result = self._run(None, fetches, feed_dict, options_ptr,\n\u001b[0;32m--> 905\u001b[0;31m                          run_metadata_ptr)\n\u001b[0m\u001b[1;32m    906\u001b[0m       \u001b[0;32mif\u001b[0m \u001b[0mrun_metadata\u001b[0m\u001b[0;34m:\u001b[0m\u001b[0;34m\u001b[0m\u001b[0m\n\u001b[1;32m    907\u001b[0m         \u001b[0mproto_data\u001b[0m \u001b[0;34m=\u001b[0m \u001b[0mtf_session\u001b[0m\u001b[0;34m.\u001b[0m\u001b[0mTF_GetBuffer\u001b[0m\u001b[0;34m(\u001b[0m\u001b[0mrun_metadata_ptr\u001b[0m\u001b[0;34m)\u001b[0m\u001b[0;34m\u001b[0m\u001b[0m\n",
      "\u001b[0;32m/home/jobin/anaconda2/lib/python2.7/site-packages/tensorflow/python/client/session.pyc\u001b[0m in \u001b[0;36m_run\u001b[0;34m(self, handle, fetches, feed_dict, options, run_metadata)\u001b[0m\n\u001b[1;32m   1114\u001b[0m                              \u001b[0;34m'which has shape %r'\u001b[0m \u001b[0;34m%\u001b[0m\u001b[0;34m\u001b[0m\u001b[0m\n\u001b[1;32m   1115\u001b[0m                              (np_val.shape, subfeed_t.name,\n\u001b[0;32m-> 1116\u001b[0;31m                               str(subfeed_t.get_shape())))\n\u001b[0m\u001b[1;32m   1117\u001b[0m           \u001b[0;32mif\u001b[0m \u001b[0;32mnot\u001b[0m \u001b[0mself\u001b[0m\u001b[0;34m.\u001b[0m\u001b[0mgraph\u001b[0m\u001b[0;34m.\u001b[0m\u001b[0mis_feedable\u001b[0m\u001b[0;34m(\u001b[0m\u001b[0msubfeed_t\u001b[0m\u001b[0;34m)\u001b[0m\u001b[0;34m:\u001b[0m\u001b[0;34m\u001b[0m\u001b[0m\n\u001b[1;32m   1118\u001b[0m             \u001b[0;32mraise\u001b[0m \u001b[0mValueError\u001b[0m\u001b[0;34m(\u001b[0m\u001b[0;34m'Tensor %s may not be fed.'\u001b[0m \u001b[0;34m%\u001b[0m \u001b[0msubfeed_t\u001b[0m\u001b[0;34m)\u001b[0m\u001b[0;34m\u001b[0m\u001b[0m\n",
      "\u001b[0;31mValueError\u001b[0m: Cannot feed value of shape (6,) for Tensor u'Placeholder_7:0', which has shape '(280, 6)'"
     ]
    }
   ],
   "source": [
    "\n",
    "train_pl = tf.placeholder(\"float\", [280, 6])\n",
    "test_pl = tf.placeholder(\"float\", [280,6])\n",
    "\n",
    "knn_prediction = tf.reduce_sum(tf.abs(tf.add(train_pl, tf.negative(test_pl))), axis=1)\n",
    "\n",
    "pred = tf.argmin(knn_prediction, 0)\n",
    "\n",
    "with tf.Session() as tf_session:\n",
    "    missed = 0\n",
    "\n",
    "    for i in xrange(len(test_dataset)):\n",
    "        knn_index = tf_session.run(pred, feed_dict={train_pl: train_dataset, test_pl: test_dataset[i]})\n",
    "\n",
    "        print \"Predicted class {} -- True class {}\".format(train_labels[knn_index], test_labels[i])\n",
    "\n",
    "        if train_labels[knn_index] != test_labels[i]:\n",
    "            missed += 1\n",
    "\n",
    "    tf.summary.FileWriter(\"../samples/article/logs\", tf_session.graph)\n",
    "\n",
    "print \"Missed: {} -- Total: {}\".format(missed, len(test_dataset))"
   ]
  },
  {
   "cell_type": "code",
   "execution_count": null,
   "metadata": {},
   "outputs": [],
   "source": []
  }
 ],
 "metadata": {
  "kernelspec": {
   "display_name": "Python 2",
   "language": "python",
   "name": "python2"
  },
  "language_info": {
   "codemirror_mode": {
    "name": "ipython",
    "version": 2
   },
   "file_extension": ".py",
   "mimetype": "text/x-python",
   "name": "python",
   "nbconvert_exporter": "python",
   "pygments_lexer": "ipython2",
   "version": "2.7.14"
  }
 },
 "nbformat": 4,
 "nbformat_minor": 2
}
